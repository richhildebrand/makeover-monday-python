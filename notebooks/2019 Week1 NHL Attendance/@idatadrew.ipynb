{
 "cells": [
  {
   "cell_type": "markdown",
   "metadata": {},
   "source": [
    "# Recreating @idatadrew's implementation which can be found [here](https://public.tableau.com/views/NHL-ChangeinAverageAttendanceperGame/NHL-ChangeinAverageAttendanceperGame?:embed=y&:display_count=yes&publish=yes&:toolbar=no&:showVizHome=no)."
   ]
  },
  {
   "cell_type": "markdown",
   "metadata": {},
   "source": [
    "## What is the % change in average attendance per game for NHL teams compared to the 2000-01 season?"
   ]
  },
  {
   "cell_type": "markdown",
   "metadata": {},
   "source": [
    "Average attendance per game has steadily increased **compared to the 2000-01 season** for most teams. Chiago Blackhawks have seen the most <font color=blue>**positive % change**</font>, whereas Colorado Avalanche have seen the most <font color=red>**negative % change**</font>."
   ]
  },
  {
   "cell_type": "code",
   "execution_count": 1,
   "metadata": {},
   "outputs": [],
   "source": [
    "import math\n",
    "import numpy as np \n",
    "import pandas as pd\n",
    "\n",
    "import seaborn as sns\n",
    "import matplotlib.pylab as plt\n",
    "pd.options.mode.chained_assignment = None #surpress is copy warning"
   ]
  },
  {
   "cell_type": "code",
   "execution_count": 2,
   "metadata": {},
   "outputs": [
    {
     "data": {
      "text/plain": [
       "Index(['SEASON', 'RANK', 'TEAM', 'HOME GAMES', ' HOME ATTENDANCE ',\n",
       "       'ROAD GAMES', ' ROAD ATTENDANCE ', 'TOTAL GAMES', ' TOTAL ATTENDANCE '],\n",
       "      dtype='object')"
      ]
     },
     "execution_count": 2,
     "metadata": {},
     "output_type": "execute_result"
    }
   ],
   "source": [
    "df = pd.read_csv('./NHL Attendance.csv')\n",
    "df.columns"
   ]
  },
  {
   "cell_type": "code",
   "execution_count": 3,
   "metadata": {},
   "outputs": [
    {
     "name": "stdout",
     "output_type": "stream",
     "text": [
      "TEAM\n",
      "Anaheim         17\n",
      "Arizona         17\n",
      "Boston          17\n",
      "Buffalo         17\n",
      "Calgary         17\n",
      "Carolina        17\n",
      "Chicago         17\n",
      "Colorado        17\n",
      "Columbus        17\n",
      "Dallas          17\n",
      "Detroit         17\n",
      "Edmonton        17\n",
      "Florida         17\n",
      "Los Angeles     17\n",
      "Minnesota       17\n",
      "Montreal        17\n",
      "NY Islanders    17\n",
      "NY Rangers      17\n",
      "Nashville       17\n",
      "New Jersey      17\n",
      "Ottawa          17\n",
      "Philadelphia    17\n",
      "Pittsburgh      17\n",
      "San Jose        17\n",
      "St. Louis       17\n",
      "Tampa Bay       17\n",
      "Toronto         17\n",
      "Vancouver       17\n",
      "Washington      17\n",
      "Winnipeg        17\n",
      "Name: SEASON, dtype: int64\n"
     ]
    }
   ],
   "source": [
    "df = df.query('TEAM != \"Vegas\"')\n",
    "print(df.groupby('TEAM')['SEASON'].count())"
   ]
  },
  {
   "cell_type": "code",
   "execution_count": 4,
   "metadata": {},
   "outputs": [],
   "source": [
    "def clean_numeric_column(df, column_name):\n",
    "    series = df[column_name].str.strip()\n",
    "    series = series.str.replace(',', '')\n",
    "    series = pd.to_numeric(series)\n",
    "    df[column_name] = series\n",
    "    return df\n",
    "\n",
    "data = df[['TEAM', 'SEASON', ' TOTAL ATTENDANCE ', 'TOTAL GAMES']]\n",
    "data = clean_numeric_column(data, ' TOTAL ATTENDANCE ')\n",
    "\n",
    "def calculate_percent_change(current_season, previous_season):\n",
    "    if (math.isnan(current_season) or math.isnan(previous_season)):\n",
    "        return 0\n",
    "    \n",
    "    if (current_season > previous_season):\n",
    "        return previous_season / current_season\n",
    "    \n",
    "    if (previous_season > current_season):\n",
    "        return -(current_season / previous_season)\n",
    "    \n",
    "\n",
    "data['AVERAGE ATTENDANCE PER GAME'] = data[' TOTAL ATTENDANCE '] / data['TOTAL GAMES']\n",
    "data['PREVIOUS AVERAGE ATTENDANCE PER GAME'] = data['AVERAGE ATTENDANCE PER GAME'].shift(1)\n",
    "\n",
    "data['PERCENT CHANGE IN AVERAGE ATTENDANCE PER GAME'] = data.apply(lambda row: \n",
    "    calculate_percent_change(\n",
    "        row['AVERAGE ATTENDANCE PER GAME'], \n",
    "        row['PREVIOUS AVERAGE ATTENDANCE PER GAME']\n",
    "    ),\n",
    "    axis = 1 #applies lambda to row\n",
    ")\n",
    "data = data.query('SEASON != \"2000-01\"')\n",
    "piviot_table = pd.pivot_table(data, values='PERCENT CHANGE IN AVERAGE ATTENDANCE PER GAME', index='TEAM',  columns='SEASON')\n"
   ]
  },
  {
   "cell_type": "code",
   "execution_count": 5,
   "metadata": {},
   "outputs": [
    {
     "data": {
      "image/png": "[encoded data removed]",
      "text/plain": [
       "<Figure size 432x288 with 2 Axes>"
      ]
     },
     "metadata": {
      "needs_background": "light"
     },
     "output_type": "display_data"
    }
   ],
   "source": [
    "ax = sns.heatmap(piviot_table, linewidth=0.5, cmap=\"coolwarm_r\")\n",
    "plt.show()"
   ]
  },
  {
   "cell_type": "code",
   "execution_count": null,
   "metadata": {},
   "outputs": [],
   "source": []
  }
 ],
 "metadata": {
  "kernelspec": {
   "display_name": "Python 3",
   "language": "python",
   "name": "python3"
  },
  "language_info": {
   "codemirror_mode": {
    "name": "ipython",
    "version": 3
   },
   "file_extension": ".py",
   "mimetype": "text/x-python",
   "name": "python",
   "nbconvert_exporter": "python",
   "pygments_lexer": "ipython3",
   "version": "3.7.3"
  }
 },
 "nbformat": 4,
 "nbformat_minor": 2
}
