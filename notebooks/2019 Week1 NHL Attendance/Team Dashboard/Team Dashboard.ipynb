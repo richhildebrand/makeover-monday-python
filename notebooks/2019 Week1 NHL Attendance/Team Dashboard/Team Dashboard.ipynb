{
 "cells": [
  {
   "cell_type": "markdown",
   "metadata": {},
   "source": [
    "# Recreating @eleonoran's implementation which can be found [here](https://ibb.co/h1F0Lh1)."
   ]
  },
  {
   "cell_type": "code",
   "execution_count": 1,
   "metadata": {},
   "outputs": [],
   "source": [
    "import math\n",
    "import numpy as np \n",
    "import pandas as pd\n",
    "from PIL import Image\n",
    "\n",
    "import matplotlib\n",
    "from matplotlib.backends.backend_pgf import FigureCanvasPgf\n",
    "matplotlib.backend_bases.register_backend('pdf', FigureCanvasPgf)\n",
    "\n",
    "from matplotlib import rc\n",
    "rc('text',usetex=True)\n",
    "rc('text.latex', preamble=r'\\usepackage{xcolor}')\n",
    "rc('pgf', preamble=r'\\usepackage{xcolor}', rcfonts=False)\n",
    "\n",
    "import matplotlib.pyplot as plt\n",
    "import seaborn as sns\n",
    "\n",
    "pd.options.mode.chained_assignment = None # surpress is copy warning"
   ]
  },
  {
   "cell_type": "code",
   "execution_count": 2,
   "metadata": {},
   "outputs": [
    {
     "name": "stdout",
     "output_type": "stream",
     "text": [
      "    SEASON  RANK          TEAM  HOME GAMES  HOME ATTENDANCE   ROAD GAMES  \\\n",
      "0  2017-18     1       Chicago          41          887,794           41   \n",
      "1  2017-18     2      Montreal          41          873,283           41   \n",
      "2  2017-18     3  Philadelphia          41          800,214           41   \n",
      "3  2017-18     4       Detroit          41          800,115           41   \n",
      "4  2017-18     5       Toronto          41          786,677           41   \n",
      "\n",
      "   ROAD ATTENDANCE   TOTAL GAMES  TOTAL ATTENDANCE   \n",
      "0          723,773            82         1,611,567   \n",
      "1          733,736            82         1,607,019   \n",
      "2          702,781            82         1,502,995   \n",
      "3          717,295            82         1,517,410   \n",
      "4          751,940            82         1,538,617   \n"
     ]
    }
   ],
   "source": [
    "team_name = 'Chicago'\n",
    "df = pd.read_csv('../NHL Attendance.csv')\n",
    "print(df.head())"
   ]
  },
  {
   "cell_type": "code",
   "execution_count": 3,
   "metadata": {},
   "outputs": [],
   "source": [
    "def clean_numeric_column(df, column_name):\n",
    "    series = df[column_name].str.strip()\n",
    "    series = series.str.replace(',', '')\n",
    "    series = pd.to_numeric(series)\n",
    "    df[column_name] = series\n",
    "    return df\n",
    "\n",
    "df = clean_numeric_column(df, ' TOTAL ATTENDANCE ')"
   ]
  },
  {
   "cell_type": "code",
   "execution_count": 4,
   "metadata": {},
   "outputs": [],
   "source": [
    "def get_value_from_column(df, filter_column, filter_value, value_column):\n",
    "    row = df.query(f'{filter_column} == @filter_value')\n",
    "    return row.iloc[0][value_column]"
   ]
  },
  {
   "cell_type": "code",
   "execution_count": 5,
   "metadata": {},
   "outputs": [
    {
     "name": "stdout",
     "output_type": "stream",
     "text": [
      "    SEASON  RANK  HOME GAMES  ROAD GAMES  TOTAL GAMES   TOTAL ATTENDANCE \n",
      "0  2000-01   465        1232        1232         2464            40799384\n",
      "1  2001-02   465        1230        1230         2460            41226412\n",
      "2  2002-03   465        1230        1230         2460            40812257\n",
      "3  2003-04   465        1230        1230         2460            40711797\n",
      "4  2005-06   465        1230        1230         2460            41707630\n",
      "40799384\n",
      "44347842\n"
     ]
    }
   ],
   "source": [
    "season_sums = df.groupby('SEASON').sum()\n",
    "season_sums = season_sums.reset_index(level='SEASON')\n",
    "print(season_sums.head())\n",
    "\n",
    "season_2000_01 = get_value_from_column(season_sums, 'SEASON', '2000-01', ' TOTAL ATTENDANCE ')\n",
    "season_2017_18 = get_value_from_column(season_sums, 'SEASON', '2017-18', ' TOTAL ATTENDANCE ')\n",
    "print(season_2000_01)\n",
    "print(season_2017_18)"
   ]
  },
  {
   "cell_type": "code",
   "execution_count": 6,
   "metadata": {},
   "outputs": [
    {
     "name": "stdout",
     "output_type": "stream",
     "text": [
      "      SEASON  RANK     TEAM  HOME GAMES  HOME ATTENDANCE   ROAD GAMES  \\\n",
      "0    2017-18     1  Chicago          41          887,794           41   \n",
      "31   2016-17     1  Chicago          41          891,827           41   \n",
      "61   2015-16     1  Chicago          41          896,240           41   \n",
      "91   2014-15     1  Chicago          41          892,532           41   \n",
      "121  2013-14     1  Chicago          41          927,545           41   \n",
      "\n",
      "     ROAD ATTENDANCE   TOTAL GAMES   TOTAL ATTENDANCE   \n",
      "0            723,773            82             1611567  \n",
      "31           761,985            82             1653812  \n",
      "61           774,572            82             1670812  \n",
      "91           763,830            82             1656362  \n",
      "121          730,251            82             1657796  \n"
     ]
    }
   ],
   "source": [
    "team_df = df.query('TEAM == @team_name')\n",
    "print(team_df.head())"
   ]
  }
 ],
 "metadata": {
  "kernelspec": {
   "display_name": "Python 3",
   "language": "python",
   "name": "python3"
  },
  "language_info": {
   "codemirror_mode": {
    "name": "ipython",
    "version": 3
   },
   "file_extension": ".py",
   "mimetype": "text/x-python",
   "name": "python",
   "nbconvert_exporter": "python",
   "pygments_lexer": "ipython3",
   "version": "3.7.3"
  }
 },
 "nbformat": 4,
 "nbformat_minor": 2
}
