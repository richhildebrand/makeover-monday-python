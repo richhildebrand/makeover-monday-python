{
 "cells": [
  {
   "cell_type": "code",
   "execution_count": 1,
   "metadata": {},
   "outputs": [],
   "source": [
    "import numpy as np; np.random.seed(0)\n",
    "import seaborn as sns; sns.set()\n",
    "\n",
    "import matplotlib.pyplot as plt\n",
    "from matplotlib.colors import ListedColormap, LinearSegmentedColormap"
   ]
  },
  {
   "cell_type": "code",
   "execution_count": 2,
   "metadata": {},
   "outputs": [],
   "source": [
    "def create_color(r, g, b):\n",
    "    return [r/256, g/256, b/256]\n",
    "\n",
    "\n",
    "def get_custom_color_palette():\n",
    "    return LinearSegmentedColormap.from_list(\"\", [\n",
    "        create_color(227, 101, 33), create_color(246, 145, 53), create_color(251, 168, 74),\n",
    "        create_color(218, 212, 200),\n",
    "        create_color(141, 193, 223), create_color(114, 167, 208), create_color(43, 92, 138)\n",
    "    ])"
   ]
  },
  {
   "cell_type": "code",
   "execution_count": 3,
   "metadata": {},
   "outputs": [
    {
     "data": {
      "image/png": "[encoded data removed]",
      "text/plain": [
       "<Figure size 432x288 with 2 Axes>"
      ]
     },
     "metadata": {
      "needs_background": "light"
     },
     "output_type": "display_data"
    }
   ],
   "source": [
    "low, high = -5, 15\n",
    "data = np.random.uniform(low, high, (10, 15))\n",
    "\n",
    "cmap = get_custom_color_palette()\n",
    "sns.heatmap(data, cmap=cmap, center=0);"
   ]
  }
 ],
 "metadata": {
  "kernelspec": {
   "display_name": "Python 3",
   "language": "python",
   "name": "python3"
  },
  "language_info": {
   "codemirror_mode": {
    "name": "ipython",
    "version": 3
   },
   "file_extension": ".py",
   "mimetype": "text/x-python",
   "name": "python",
   "nbconvert_exporter": "python",
   "pygments_lexer": "ipython3",
   "version": "3.7.3"
  }
 },
 "nbformat": 4,
 "nbformat_minor": 2
}
