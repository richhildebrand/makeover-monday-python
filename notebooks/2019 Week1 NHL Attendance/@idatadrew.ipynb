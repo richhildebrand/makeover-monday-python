{
 "cells": [
  {
   "cell_type": "markdown",
   "metadata": {},
   "source": [
    "# Recreating @idatadrew's implementation which can be found [here](https://public.tableau.com/views/NHL-ChangeinAverageAttendanceperGame/NHL-ChangeinAverageAttendanceperGame?:embed=y&:display_count=yes&publish=yes&:toolbar=no&:showVizHome=no)."
   ]
  },
  {
   "cell_type": "markdown",
   "metadata": {},
   "source": [
    "## What is the % change in average attendance per game for NHL teams compared to the 2000-01 season?"
   ]
  },
  {
   "cell_type": "code",
   "execution_count": 1,
   "metadata": {},
   "outputs": [],
   "source": [
    "import math\n",
    "import numpy as np \n",
    "import pandas as pd\n",
    "from PIL import Image\n",
    "\n",
    "import seaborn as sns\n",
    "import matplotlib\n",
    "import matplotlib.pylab as plt\n",
    "pd.options.mode.chained_assignment = None #surpress is copy warning"
   ]
  },
  {
   "cell_type": "code",
   "execution_count": 2,
   "metadata": {},
   "outputs": [
    {
     "data": {
      "text/plain": [
       "Index(['SEASON', 'RANK', 'TEAM', 'HOME GAMES', ' HOME ATTENDANCE ',\n",
       "       'ROAD GAMES', ' ROAD ATTENDANCE ', 'TOTAL GAMES', ' TOTAL ATTENDANCE '],\n",
       "      dtype='object')"
      ]
     },
     "execution_count": 2,
     "metadata": {},
     "output_type": "execute_result"
    }
   ],
   "source": [
    "df = pd.read_csv('./NHL Attendance.csv')\n",
    "df.columns"
   ]
  },
  {
   "cell_type": "code",
   "execution_count": 3,
   "metadata": {},
   "outputs": [],
   "source": [
    "df = df.query('TEAM != \"Vegas\"')\n",
    "#print(df.groupby('TEAM')['SEASON'].count())"
   ]
  },
  {
   "cell_type": "code",
   "execution_count": 4,
   "metadata": {
    "code_folding": [
     0,
     7,
     12
    ]
   },
   "outputs": [],
   "source": [
    "def clean_numeric_column(df, column_name):\n",
    "    series = df[column_name].str.strip()\n",
    "    series = series.str.replace(',', '')\n",
    "    series = pd.to_numeric(series)\n",
    "    df[column_name] = series\n",
    "    return df\n",
    "\n",
    "def format_percent(season_one, season_two):\n",
    "    percent = season_one / season_two;\n",
    "    percent = percent - 1\n",
    "    return round(percent * 100, 1)\n",
    "\n",
    "def calculate_percent_change(current_attendance, team, df):\n",
    "    row = df.query('SEASON == \"2000-01\" and TEAM == @team')\n",
    "    starting_attendance = row.iloc[0]['AVERAGE ATTENDANCE PER GAME']\n",
    "\n",
    "    return format_percent(current_attendance, starting_attendance)"
   ]
  },
  {
   "cell_type": "code",
   "execution_count": 5,
   "metadata": {
    "code_folding": [
     0
    ]
   },
   "outputs": [],
   "source": [
    "#Create piviot table\n",
    "data = df[['TEAM', 'SEASON', ' TOTAL ATTENDANCE ', 'TOTAL GAMES']]\n",
    "data = clean_numeric_column(data, ' TOTAL ATTENDANCE ')\n",
    "\n",
    "\n",
    "data['AVERAGE ATTENDANCE PER GAME'] = round(data[' TOTAL ATTENDANCE '] / data['TOTAL GAMES'], 0)\n",
    "data['PREVIOUS AVERAGE ATTENDANCE PER GAME'] = data.groupby('TEAM')['AVERAGE ATTENDANCE PER GAME'].shift(-1)\n",
    "\n",
    "data['PERCENT CHANGE IN AVERAGE ATTENDANCE PER GAME'] = data.apply(lambda row: \n",
    "    calculate_percent_change(\n",
    "        row['AVERAGE ATTENDANCE PER GAME'],\n",
    "        row['TEAM'],\n",
    "        data\n",
    "    ),\n",
    "    axis = 1, #applies lambda to row                                                                 \n",
    ")\n",
    "\n",
    "data = data.query('SEASON != \"2000-01\"')\n",
    "\n",
    "max_change = data['PERCENT CHANGE IN AVERAGE ATTENDANCE PER GAME'].max()\n",
    "min_change = data['PERCENT CHANGE IN AVERAGE ATTENDANCE PER GAME'].min()\n",
    "data['SEASON'] = data['SEASON'].str[2:] # remove leading 20\n",
    "piviot_table = pd.pivot_table(data, values='PERCENT CHANGE IN AVERAGE ATTENDANCE PER GAME', index='TEAM',  columns='SEASON')\n"
   ]
  },
  {
   "cell_type": "code",
   "execution_count": 6,
   "metadata": {
    "code_folding": [
     0
    ]
   },
   "outputs": [
    {
     "name": "stdout",
     "output_type": "stream",
     "text": [
      "SEASON   01-02  02-03  03-04  05-06  06-07  07-08  08-09  09-10  10-11  11-12  \\\n",
      "TEAM                                                                            \n",
      "Chicago    2.6    0.9   -4.3   -5.0   -7.0    8.0   25.8   21.8   24.3   23.7   \n",
      "\n",
      "SEASON   12-13  13-14  14-15  15-16  16-17  17-18  \n",
      "TEAM                                               \n",
      "Chicago   26.3   27.9   27.8   28.9   27.5   24.3  \n"
     ]
    }
   ],
   "source": [
    "def sort_teams(df, key):\n",
    "    result = df.groupby('TEAM')[key].sum().reset_index()\n",
    "    result = df.sort_values(by=[key], ascending=False)\n",
    "    result = result['TEAM'].unique().tolist()\n",
    "    return result\n",
    "\n",
    "team_order = sort_teams(data, 'PERCENT CHANGE IN AVERAGE ATTENDANCE PER GAME')\n",
    "piviot_table = piviot_table.reindex(team_order, axis=0)\n",
    "print(piviot_table.query('TEAM == \"Chicago\"'))"
   ]
  },
  {
   "cell_type": "code",
   "execution_count": 7,
   "metadata": {
    "code_folding": [
     3,
     26,
     29,
     31
    ]
   },
   "outputs": [],
   "source": [
    "from matplotlib import cm\n",
    "from matplotlib.colors import ListedColormap, LinearSegmentedColormap\n",
    "\n",
    "def center_color_map(cmap, min_val, max_val, name):\n",
    "    epsilon = 0.001\n",
    "    start, stop = 0.0, 1.0\n",
    "    min_val, max_val = min(0.0, min_val), max(0.0, max_val) # Edit #2\n",
    "    midpoint = 1.0 - max_val/(max_val + abs(min_val))\n",
    "    cdict = {'red': [], 'green': [], 'blue': [], 'alpha': []}\n",
    "    # regular index to compute the colors\n",
    "    reg_index = np.linspace(start, stop, 257)\n",
    "    # shifted index to match the data\n",
    "    shift_index = np.hstack([np.linspace(0.0, midpoint, 128, endpoint=False), np.linspace(midpoint, 1.0, 129, endpoint=True)])\n",
    "    for ri, si in zip(reg_index, shift_index):\n",
    "        if abs(si - midpoint) < epsilon:\n",
    "            r, g, b, a = cmap(0.5) # 0.5 = original midpoint.\n",
    "        else:\n",
    "            r, g, b, a = cmap(ri)\n",
    "        cdict['red'].append((si, r, r))\n",
    "        cdict['green'].append((si, g, g))\n",
    "        cdict['blue'].append((si, b, b))\n",
    "        cdict['alpha'].append((si, a, a))\n",
    "    newcmap = LinearSegmentedColormap(name, cdict)\n",
    "    plt.register_cmap(cmap=newcmap)\n",
    "    return newcmap\n",
    "\n",
    "def create_color(r, g, b):\n",
    "    return [r/256, g/256, b/256]\n",
    "\n",
    "def create_orange_blue_cmap(min_value, max_value):    \n",
    "    N = 256\n",
    "    cmap = LinearSegmentedColormap.from_list(\"\", [\n",
    "        create_color(227, 101, 33), create_color(246, 145, 53), create_color(251, 168, 74),\n",
    "        create_color(218, 212, 200),\n",
    "        create_color(141, 193, 223), create_color(114, 167, 208), create_color(43, 92, 138)\n",
    "    ])\n",
    "    \n",
    "    return center_color_map(cmap, min_value, max_value, \"\")"
   ]
  },
  {
   "cell_type": "code",
   "execution_count": 8,
   "metadata": {
    "code_folding": [
     0,
     10
    ]
   },
   "outputs": [],
   "source": [
    "def draw_colorbar(header_ax, fig):\n",
    "    colorbar_ax = fig.add_axes([0.73, 0.74, 0.125, 0.1]) # right, up\n",
    "    colorbar_im = colorbar_ax.imshow(piviot_table, cmap=cmap, aspect=0.125)\n",
    "    colorbar = fig.colorbar(colorbar_im, cax=colorbar_ax, orientation='horizontal', ticks=[0])\n",
    "    colorbar_ax.tick_params(axis=\"x\", direction='inout', length=5,)\n",
    "    colorbar.ax.set_xticklabels([''])\n",
    "    \n",
    "    colorbar_ax.annotate(str(min_change) + '%', xy=(1, 1), xytext=(-36, -7), fontsize=16, color='#666666')\n",
    "    colorbar_ax.annotate(str(max_change) + '%', xy=(1, 1), xytext=(30.5, -7), fontsize=16, color='#666666')\n",
    "\n",
    "def draw_header(header_ax, fig):\n",
    "    header_ax.annotate('What is the % Change in average attendance per game for NHL teams compared to the 2000-01 season?', \n",
    "    xy=(1, 1), xytext=(-0.095, 0.80), size=20.5, color='#666666', weight='bold'\n",
    "    )\n",
    "\n",
    "    header_ax.annotate('Average attendance per game has steadily increased compared to the 2000-01\\n'\n",
    "                       + 'season for most teams. The Chicago Blackhawks have seen the most postive % change\\n'\n",
    "                       + 'whereas the Colorado Avalanche have seen the most negative % change', \n",
    "                       xy=(1, 1), xytext=(-0.025, 0.15), size=18, color='#666666'\n",
    "    )\n",
    "\n",
    "    header_image = Image.open('./HockeyPlayer.PNG')\n",
    "    header_image = np.array(header_image).astype(np.float) / 255\n",
    "    fig.figimage(header_image, 0, 852, zorder=1)\n",
    "\n",
    "    header_ax.axis('off')\n",
    "    draw_colorbar(header_ax, fig)"
   ]
  },
  {
   "cell_type": "code",
   "execution_count": 9,
   "metadata": {
    "code_folding": []
   },
   "outputs": [
    {
     "ename": "RuntimeError",
     "evalue": "No suitable pdf to png renderer found.",
     "output_type": "error",
     "traceback": [
      "\u001b[0;31m---------------------------------------------------------------------------\u001b[0m",
      "\u001b[0;31mRuntimeError\u001b[0m                              Traceback (most recent call last)",
      "\u001b[0;32m<ipython-input-9-8e19f4b1afbb>\u001b[0m in \u001b[0;36m<module>\u001b[0;34m\u001b[0m\n\u001b[1;32m     33\u001b[0m \u001b[0;31m#Print Graph\u001b[0m\u001b[0;34m\u001b[0m\u001b[0;34m\u001b[0m\u001b[0;34m\u001b[0m\u001b[0m\n\u001b[1;32m     34\u001b[0m \u001b[0;31m#plt.show()\u001b[0m\u001b[0;34m\u001b[0m\u001b[0;34m\u001b[0m\u001b[0;34m\u001b[0m\u001b[0m\n\u001b[0;32m---> 35\u001b[0;31m \u001b[0mplt\u001b[0m\u001b[0;34m.\u001b[0m\u001b[0msavefig\u001b[0m\u001b[0;34m(\u001b[0m\u001b[0;34m'test.png'\u001b[0m\u001b[0;34m)\u001b[0m\u001b[0;34m\u001b[0m\u001b[0;34m\u001b[0m\u001b[0m\n\u001b[0m",
      "\u001b[0;32m/opt/conda/lib/python3.7/site-packages/matplotlib/pyplot.py\u001b[0m in \u001b[0;36msavefig\u001b[0;34m(*args, **kwargs)\u001b[0m\n\u001b[1;32m    720\u001b[0m \u001b[0;32mdef\u001b[0m \u001b[0msavefig\u001b[0m\u001b[0;34m(\u001b[0m\u001b[0;34m*\u001b[0m\u001b[0margs\u001b[0m\u001b[0;34m,\u001b[0m \u001b[0;34m**\u001b[0m\u001b[0mkwargs\u001b[0m\u001b[0;34m)\u001b[0m\u001b[0;34m:\u001b[0m\u001b[0;34m\u001b[0m\u001b[0;34m\u001b[0m\u001b[0m\n\u001b[1;32m    721\u001b[0m     \u001b[0mfig\u001b[0m \u001b[0;34m=\u001b[0m \u001b[0mgcf\u001b[0m\u001b[0;34m(\u001b[0m\u001b[0;34m)\u001b[0m\u001b[0;34m\u001b[0m\u001b[0;34m\u001b[0m\u001b[0m\n\u001b[0;32m--> 722\u001b[0;31m     \u001b[0mres\u001b[0m \u001b[0;34m=\u001b[0m \u001b[0mfig\u001b[0m\u001b[0;34m.\u001b[0m\u001b[0msavefig\u001b[0m\u001b[0;34m(\u001b[0m\u001b[0;34m*\u001b[0m\u001b[0margs\u001b[0m\u001b[0;34m,\u001b[0m \u001b[0;34m**\u001b[0m\u001b[0mkwargs\u001b[0m\u001b[0;34m)\u001b[0m\u001b[0;34m\u001b[0m\u001b[0;34m\u001b[0m\u001b[0m\n\u001b[0m\u001b[1;32m    723\u001b[0m     \u001b[0mfig\u001b[0m\u001b[0;34m.\u001b[0m\u001b[0mcanvas\u001b[0m\u001b[0;34m.\u001b[0m\u001b[0mdraw_idle\u001b[0m\u001b[0;34m(\u001b[0m\u001b[0;34m)\u001b[0m   \u001b[0;31m# need this if 'transparent=True' to reset colors\u001b[0m\u001b[0;34m\u001b[0m\u001b[0;34m\u001b[0m\u001b[0m\n\u001b[1;32m    724\u001b[0m     \u001b[0;32mreturn\u001b[0m \u001b[0mres\u001b[0m\u001b[0;34m\u001b[0m\u001b[0;34m\u001b[0m\u001b[0m\n",
      "\u001b[0;32m/opt/conda/lib/python3.7/site-packages/matplotlib/figure.py\u001b[0m in \u001b[0;36msavefig\u001b[0;34m(self, fname, transparent, **kwargs)\u001b[0m\n\u001b[1;32m   2178\u001b[0m             \u001b[0mself\u001b[0m\u001b[0;34m.\u001b[0m\u001b[0mpatch\u001b[0m\u001b[0;34m.\u001b[0m\u001b[0mset_visible\u001b[0m\u001b[0;34m(\u001b[0m\u001b[0mframeon\u001b[0m\u001b[0;34m)\u001b[0m\u001b[0;34m\u001b[0m\u001b[0;34m\u001b[0m\u001b[0m\n\u001b[1;32m   2179\u001b[0m \u001b[0;34m\u001b[0m\u001b[0m\n\u001b[0;32m-> 2180\u001b[0;31m         \u001b[0mself\u001b[0m\u001b[0;34m.\u001b[0m\u001b[0mcanvas\u001b[0m\u001b[0;34m.\u001b[0m\u001b[0mprint_figure\u001b[0m\u001b[0;34m(\u001b[0m\u001b[0mfname\u001b[0m\u001b[0;34m,\u001b[0m \u001b[0;34m**\u001b[0m\u001b[0mkwargs\u001b[0m\u001b[0;34m)\u001b[0m\u001b[0;34m\u001b[0m\u001b[0;34m\u001b[0m\u001b[0m\n\u001b[0m\u001b[1;32m   2181\u001b[0m \u001b[0;34m\u001b[0m\u001b[0m\n\u001b[1;32m   2182\u001b[0m         \u001b[0;32mif\u001b[0m \u001b[0mframeon\u001b[0m\u001b[0;34m:\u001b[0m\u001b[0;34m\u001b[0m\u001b[0;34m\u001b[0m\u001b[0m\n",
      "\u001b[0;32m/opt/conda/lib/python3.7/site-packages/matplotlib/backend_bases.py\u001b[0m in \u001b[0;36mprint_figure\u001b[0;34m(self, filename, dpi, facecolor, edgecolor, orientation, format, bbox_inches, **kwargs)\u001b[0m\n\u001b[1;32m   2080\u001b[0m                     \u001b[0morientation\u001b[0m\u001b[0;34m=\u001b[0m\u001b[0morientation\u001b[0m\u001b[0;34m,\u001b[0m\u001b[0;34m\u001b[0m\u001b[0;34m\u001b[0m\u001b[0m\n\u001b[1;32m   2081\u001b[0m                     \u001b[0mbbox_inches_restore\u001b[0m\u001b[0;34m=\u001b[0m\u001b[0m_bbox_inches_restore\u001b[0m\u001b[0;34m,\u001b[0m\u001b[0;34m\u001b[0m\u001b[0;34m\u001b[0m\u001b[0m\n\u001b[0;32m-> 2082\u001b[0;31m                     **kwargs)\n\u001b[0m\u001b[1;32m   2083\u001b[0m             \u001b[0;32mfinally\u001b[0m\u001b[0;34m:\u001b[0m\u001b[0;34m\u001b[0m\u001b[0;34m\u001b[0m\u001b[0m\n\u001b[1;32m   2084\u001b[0m                 \u001b[0;32mif\u001b[0m \u001b[0mbbox_inches\u001b[0m \u001b[0;32mand\u001b[0m \u001b[0mrestore_bbox\u001b[0m\u001b[0;34m:\u001b[0m\u001b[0;34m\u001b[0m\u001b[0;34m\u001b[0m\u001b[0m\n",
      "\u001b[0;32m/opt/conda/lib/python3.7/site-packages/matplotlib/backends/backend_pgf.py\u001b[0m in \u001b[0;36mprint_png\u001b[0;34m(self, fname_or_fh, *args, **kwargs)\u001b[0m\n\u001b[1;32m    924\u001b[0m             \u001b[0;32mreturn\u001b[0m\u001b[0;34m\u001b[0m\u001b[0;34m\u001b[0m\u001b[0m\n\u001b[1;32m    925\u001b[0m         \u001b[0;32mwith\u001b[0m \u001b[0mcbook\u001b[0m\u001b[0;34m.\u001b[0m\u001b[0mopen_file_cm\u001b[0m\u001b[0;34m(\u001b[0m\u001b[0mfname_or_fh\u001b[0m\u001b[0;34m,\u001b[0m \u001b[0;34m\"wb\"\u001b[0m\u001b[0;34m)\u001b[0m \u001b[0;32mas\u001b[0m \u001b[0mfile\u001b[0m\u001b[0;34m:\u001b[0m\u001b[0;34m\u001b[0m\u001b[0;34m\u001b[0m\u001b[0m\n\u001b[0;32m--> 926\u001b[0;31m             \u001b[0mself\u001b[0m\u001b[0;34m.\u001b[0m\u001b[0m_print_png_to_fh\u001b[0m\u001b[0;34m(\u001b[0m\u001b[0mfile\u001b[0m\u001b[0;34m,\u001b[0m \u001b[0;34m*\u001b[0m\u001b[0margs\u001b[0m\u001b[0;34m,\u001b[0m \u001b[0;34m**\u001b[0m\u001b[0mkwargs\u001b[0m\u001b[0;34m)\u001b[0m\u001b[0;34m\u001b[0m\u001b[0;34m\u001b[0m\u001b[0m\n\u001b[0m\u001b[1;32m    927\u001b[0m \u001b[0;34m\u001b[0m\u001b[0m\n\u001b[1;32m    928\u001b[0m     \u001b[0;32mdef\u001b[0m \u001b[0mget_renderer\u001b[0m\u001b[0;34m(\u001b[0m\u001b[0mself\u001b[0m\u001b[0;34m)\u001b[0m\u001b[0;34m:\u001b[0m\u001b[0;34m\u001b[0m\u001b[0;34m\u001b[0m\u001b[0m\n",
      "\u001b[0;32m/opt/conda/lib/python3.7/site-packages/matplotlib/backends/backend_pgf.py\u001b[0m in \u001b[0;36m_print_png_to_fh\u001b[0;34m(self, fh, *args, **kwargs)\u001b[0m\n\u001b[1;32m    899\u001b[0m \u001b[0;34m\u001b[0m\u001b[0m\n\u001b[1;32m    900\u001b[0m     \u001b[0;32mdef\u001b[0m \u001b[0m_print_png_to_fh\u001b[0m\u001b[0;34m(\u001b[0m\u001b[0mself\u001b[0m\u001b[0;34m,\u001b[0m \u001b[0mfh\u001b[0m\u001b[0;34m,\u001b[0m \u001b[0;34m*\u001b[0m\u001b[0margs\u001b[0m\u001b[0;34m,\u001b[0m \u001b[0;34m**\u001b[0m\u001b[0mkwargs\u001b[0m\u001b[0;34m)\u001b[0m\u001b[0;34m:\u001b[0m\u001b[0;34m\u001b[0m\u001b[0;34m\u001b[0m\u001b[0m\n\u001b[0;32m--> 901\u001b[0;31m         \u001b[0mconverter\u001b[0m \u001b[0;34m=\u001b[0m \u001b[0mmake_pdf_to_png_converter\u001b[0m\u001b[0;34m(\u001b[0m\u001b[0;34m)\u001b[0m\u001b[0;34m\u001b[0m\u001b[0;34m\u001b[0m\u001b[0m\n\u001b[0m\u001b[1;32m    902\u001b[0m \u001b[0;34m\u001b[0m\u001b[0m\n\u001b[1;32m    903\u001b[0m         \u001b[0;32mtry\u001b[0m\u001b[0;34m:\u001b[0m\u001b[0;34m\u001b[0m\u001b[0;34m\u001b[0m\u001b[0m\n",
      "\u001b[0;32m/opt/conda/lib/python3.7/site-packages/matplotlib/backends/backend_pgf.py\u001b[0m in \u001b[0;36mmake_pdf_to_png_converter\u001b[0;34m()\u001b[0m\n\u001b[1;32m    166\u001b[0m             \u001b[0msubprocess\u001b[0m\u001b[0;34m.\u001b[0m\u001b[0mcheck_output\u001b[0m\u001b[0;34m(\u001b[0m\u001b[0mcmd\u001b[0m\u001b[0;34m,\u001b[0m \u001b[0mstderr\u001b[0m\u001b[0;34m=\u001b[0m\u001b[0msubprocess\u001b[0m\u001b[0;34m.\u001b[0m\u001b[0mSTDOUT\u001b[0m\u001b[0;34m)\u001b[0m\u001b[0;34m\u001b[0m\u001b[0;34m\u001b[0m\u001b[0m\n\u001b[1;32m    167\u001b[0m         \u001b[0;32mreturn\u001b[0m \u001b[0mgs_convert\u001b[0m\u001b[0;34m\u001b[0m\u001b[0;34m\u001b[0m\u001b[0m\n\u001b[0;32m--> 168\u001b[0;31m     \u001b[0;32mraise\u001b[0m \u001b[0mRuntimeError\u001b[0m\u001b[0;34m(\u001b[0m\u001b[0;34m\"No suitable pdf to png renderer found.\"\u001b[0m\u001b[0;34m)\u001b[0m\u001b[0;34m\u001b[0m\u001b[0;34m\u001b[0m\u001b[0m\n\u001b[0m\u001b[1;32m    169\u001b[0m \u001b[0;34m\u001b[0m\u001b[0m\n\u001b[1;32m    170\u001b[0m \u001b[0;34m\u001b[0m\u001b[0m\n",
      "\u001b[0;31mRuntimeError\u001b[0m: No suitable pdf to png renderer found."
     ]
    },
    {
     "data": {
      "text/plain": [
       "<Figure size 432x288 with 0 Axes>"
      ]
     },
     "metadata": {},
     "output_type": "display_data"
    }
   ],
   "source": [
    "#Draw Heatmap\n",
    "cmap = create_orange_blue_cmap(min_change, max_change)\n",
    "\n",
    "fig, (header_ax, heatmap_ax) = plt.subplots(nrows=2, figsize=(20,16), gridspec_kw={\"height_ratios\":[0.18, 1]})\n",
    "sns.heatmap(piviot_table, ax=heatmap_ax, cbar=False, cmap=cmap)\n",
    "draw_header(header_ax, fig)\n",
    "\n",
    "\n",
    "#Add annotations\n",
    "heatmap_ax.plot([10.5, 10.5], [30.25, 31.25], linewidth=2, color='#666666')[0].set_clip_on(False)\n",
    "heatmap_ax.annotate('2012-13 lockout saw a significant reduction in overall attendance, as 60% of\\n regular-season games were cancelled; however, average attendance per\\n game remained consistent',\n",
    "                    xy=(1, 1), xytext=(8, 33.5), size=15, color='#666666')\n",
    "\n",
    "heatmap_ax.plot([4, 4], [-0.5, 30.5], linewidth=2, color='#666666')[0].set_clip_on(False)\n",
    "heatmap_ax.annotate('2004-05 lockout that caused the\\n entire season to be lost', xy=(1, 1), xytext=(2.5, 32), size=15, color='#666666')\n",
    "\n",
    "\n",
    "#Adjust labels\n",
    "heatmap_ax.set_ylabel('')\n",
    "heatmap_ax.tick_params(axis=\"y\", labelsize=17, labelcolor='#666666', width=0)\n",
    "\n",
    "heatmap_ax.tick_params(axis=\"x\", labelsize=17, labelcolor='#666666', labeltop=True, labelbottom=False, width=0)\n",
    "heatmap_ax.set_xlabel(\"Season (2000's)\", size=17, color='#666666', labelpad=20)\n",
    "heatmap_ax.xaxis.set_label_position('top')\n",
    "\n",
    "#Testing multiple colors\n",
    "import matplotlib as mpl\n",
    "mpl.use(\"pgf\")\n",
    "import matplotlib.pyplot as plt\n",
    "\n",
    "\n",
    "\n",
    "#Print Graph\n",
    "#plt.show()\n",
    "plt.savefig('test.png')"
   ]
  },
  {
   "cell_type": "markdown",
   "metadata": {},
   "source": [
    "TODO: header\n",
    "   . color text\n",
    "\n",
    "TODO: other\n",
    "   . clean with code folding for presentation\n",
    "   . add blog post for floating colorbar\n",
    "   . add blog post for custom colors for colorbar and graph"
   ]
  },
  {
   "cell_type": "code",
   "execution_count": null,
   "metadata": {},
   "outputs": [],
   "source": []
  }
 ],
 "metadata": {
  "kernelspec": {
   "display_name": "Python 3",
   "language": "python",
   "name": "python3"
  },
  "language_info": {
   "codemirror_mode": {
    "name": "ipython",
    "version": 3
   },
   "file_extension": ".py",
   "mimetype": "text/x-python",
   "name": "python",
   "nbconvert_exporter": "python",
   "pygments_lexer": "ipython3",
   "version": "3.7.3"
  },
  "varInspector": {
   "cols": {
    "lenName": 16,
    "lenType": 16,
    "lenVar": 40
   },
   "kernels_config": {
    "python": {
     "delete_cmd_postfix": "",
     "delete_cmd_prefix": "del ",
     "library": "var_list.py",
     "varRefreshCmd": "print(var_dic_list())"
    },
    "r": {
     "delete_cmd_postfix": ") ",
     "delete_cmd_prefix": "rm(",
     "library": "var_list.r",
     "varRefreshCmd": "cat(var_dic_list()) "
    }
   },
   "position": {
    "height": "144px",
    "left": "1377px",
    "right": "20px",
    "top": "127px",
    "width": "350px"
   },
   "types_to_exclude": [
    "module",
    "function",
    "builtin_function_or_method",
    "instance",
    "_Feature"
   ],
   "window_display": false
  }
 },
 "nbformat": 4,
 "nbformat_minor": 2
}
