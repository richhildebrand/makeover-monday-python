{
 "cells": [
  {
   "cell_type": "markdown",
   "metadata": {},
   "source": [
    "# Recreating @dgleeson's implementation which can be found [here](https://public.tableau.com/profile/donovangleeson#!/vizhome/MakeoverMonday-Week30/OffensiveContribution)."
   ]
  },
  {
   "cell_type": "code",
   "execution_count": 1,
   "metadata": {},
   "outputs": [],
   "source": [
    "import math\n",
    "import numpy as np \n",
    "import pandas as pd\n",
    "from PIL import Image\n",
    "\n",
    "import matplotlib\n",
    "import matplotlib.gridspec as gridspec\n",
    "from matplotlib.backends.backend_pgf import FigureCanvasPgf\n",
    "matplotlib.backend_bases.register_backend('pdf', FigureCanvasPgf)\n",
    "\n",
    "from matplotlib import rc\n",
    "rc('text',usetex=True)\n",
    "rc('text.latex', preamble=r'\\usepackage{xcolor}')\n",
    "rc('pgf', preamble=r'\\usepackage{xcolor}', rcfonts=False)\n",
    "\n",
    "import matplotlib.pyplot as plt\n",
    "import seaborn as sns\n",
    "\n",
    "pd.options.mode.chained_assignment = None # surpress is copy warning"
   ]
  },
  {
   "cell_type": "code",
   "execution_count": 2,
   "metadata": {},
   "outputs": [
    {
     "data": {
      "text/html": [
       "<div>\n",
       "<style scoped>\n",
       "    .dataframe tbody tr th:only-of-type {\n",
       "        vertical-align: middle;\n",
       "    }\n",
       "\n",
       "    .dataframe tbody tr th {\n",
       "        vertical-align: top;\n",
       "    }\n",
       "\n",
       "    .dataframe thead th {\n",
       "        text-align: right;\n",
       "    }\n",
       "</style>\n",
       "<table border=\"1\" class=\"dataframe\">\n",
       "  <thead>\n",
       "    <tr style=\"text-align: right;\">\n",
       "      <th></th>\n",
       "      <th>Rank</th>\n",
       "      <th>Player</th>\n",
       "      <th>Nationality</th>\n",
       "      <th>Metric</th>\n",
       "      <th>Stat</th>\n",
       "    </tr>\n",
       "  </thead>\n",
       "  <tbody>\n",
       "    <tr>\n",
       "      <td>0</td>\n",
       "      <td>1</td>\n",
       "      <td>Pierre-Emerick Aubameyang</td>\n",
       "      <td>Gabon</td>\n",
       "      <td>Appearances</td>\n",
       "      <td>36</td>\n",
       "    </tr>\n",
       "    <tr>\n",
       "      <td>1</td>\n",
       "      <td>2</td>\n",
       "      <td>Alex Iwobi</td>\n",
       "      <td>Nigeria</td>\n",
       "      <td>Appearances</td>\n",
       "      <td>35</td>\n",
       "    </tr>\n",
       "    <tr>\n",
       "      <td>2</td>\n",
       "      <td>2</td>\n",
       "      <td>Alexandre Lacazette</td>\n",
       "      <td>France</td>\n",
       "      <td>Appearances</td>\n",
       "      <td>35</td>\n",
       "    </tr>\n",
       "    <tr>\n",
       "      <td>3</td>\n",
       "      <td>4</td>\n",
       "      <td>Lucas Torreira</td>\n",
       "      <td>Uruguay</td>\n",
       "      <td>Appearances</td>\n",
       "      <td>34</td>\n",
       "    </tr>\n",
       "    <tr>\n",
       "      <td>4</td>\n",
       "      <td>5</td>\n",
       "      <td>Matteo Guendouzi</td>\n",
       "      <td>France</td>\n",
       "      <td>Appearances</td>\n",
       "      <td>33</td>\n",
       "    </tr>\n",
       "  </tbody>\n",
       "</table>\n",
       "</div>"
      ],
      "text/plain": [
       "   Rank                     Player Nationality       Metric  Stat\n",
       "0     1  Pierre-Emerick Aubameyang       Gabon  Appearances    36\n",
       "1     2                 Alex Iwobi     Nigeria  Appearances    35\n",
       "2     2        Alexandre Lacazette      France  Appearances    35\n",
       "3     4             Lucas Torreira     Uruguay  Appearances    34\n",
       "4     5           Matteo Guendouzi      France  Appearances    33"
      ]
     },
     "execution_count": 2,
     "metadata": {},
     "output_type": "execute_result"
    }
   ],
   "source": [
    "df = pd.read_csv('../Arsenal Player Stats 2018-19.csv')\n",
    "df.head()"
   ]
  },
  {
   "cell_type": "code",
   "execution_count": 3,
   "metadata": {},
   "outputs": [
    {
     "name": "stdout",
     "output_type": "stream",
     "text": [
      "['Pierre-Emerick Aubameyang' 'Alex Iwobi' 'Alexandre Lacazette'\n",
      " 'Lucas Torreira' 'Matteo Guendouzi' 'Bernd Leno' 'Shkodran Mustafi'\n",
      " 'Granit Xhaka' 'Aaron Ramsey' 'Henrikh Mkhitaryan' 'Sokratis'\n",
      " 'Mesut Özil' 'Sead Kolasinac' 'Nacho Monreal' 'Héctor Bellerín'\n",
      " 'Laurent Koscielny' 'Ainsley Maitland-Niles' 'Stephan Lichtsteiner'\n",
      " 'Rob Holding' 'Danny Welbeck' 'Mohamed Elneny' 'Petr Cech'\n",
      " 'Eddie Nketiah' 'Denis Suárez' 'Konstantinos Mavropanos' 'Carl Jenkinson'\n",
      " 'Joe Willock' 'Bukayo Saka']\n"
     ]
    }
   ],
   "source": [
    "print(df['Player'].unique())\n",
    "df = df.query(\n",
    "    'Player == \"Pierre-Emerick Aubameyang\" '\n",
    "  + ' or Player == \"Alexandre Lacazette\"'\n",
    "  + ' or Player == \"Aaron Ramsey\"'\n",
    ")"
   ]
  },
  {
   "cell_type": "code",
   "execution_count": 4,
   "metadata": {},
   "outputs": [
    {
     "name": "stdout",
     "output_type": "stream",
     "text": [
      "Index(['Player', 'Appearances', 'Assists', 'Big Chances Missed', 'Clearances',\n",
      "       'Clearances Off Line', 'Dispossessed', 'Fouls', 'Goals', 'High Claim',\n",
      "       'Hit Woodwork', 'Minutes Played', 'Offsides', 'Own Goal', 'Passes',\n",
      "       'Punches', 'Red Cards', 'Saves', 'Shots', 'Tackles', 'Touches',\n",
      "       'Yellow Cards'],\n",
      "      dtype='object', name='Metric')\n"
     ]
    },
    {
     "data": {
      "text/html": [
       "<div>\n",
       "<style scoped>\n",
       "    .dataframe tbody tr th:only-of-type {\n",
       "        vertical-align: middle;\n",
       "    }\n",
       "\n",
       "    .dataframe tbody tr th {\n",
       "        vertical-align: top;\n",
       "    }\n",
       "\n",
       "    .dataframe thead th {\n",
       "        text-align: right;\n",
       "    }\n",
       "</style>\n",
       "<table border=\"1\" class=\"dataframe\">\n",
       "  <thead>\n",
       "    <tr style=\"text-align: right;\">\n",
       "      <th>Metric</th>\n",
       "      <th>Player</th>\n",
       "      <th>Appearances</th>\n",
       "      <th>Assists</th>\n",
       "      <th>Big Chances Missed</th>\n",
       "      <th>Clearances</th>\n",
       "      <th>Clearances Off Line</th>\n",
       "      <th>Dispossessed</th>\n",
       "      <th>Fouls</th>\n",
       "      <th>Goals</th>\n",
       "      <th>High Claim</th>\n",
       "      <th>...</th>\n",
       "      <th>Offsides</th>\n",
       "      <th>Own Goal</th>\n",
       "      <th>Passes</th>\n",
       "      <th>Punches</th>\n",
       "      <th>Red Cards</th>\n",
       "      <th>Saves</th>\n",
       "      <th>Shots</th>\n",
       "      <th>Tackles</th>\n",
       "      <th>Touches</th>\n",
       "      <th>Yellow Cards</th>\n",
       "    </tr>\n",
       "  </thead>\n",
       "  <tbody>\n",
       "    <tr>\n",
       "      <td>0</td>\n",
       "      <td>Aaron Ramsey</td>\n",
       "      <td>28</td>\n",
       "      <td>6</td>\n",
       "      <td>2</td>\n",
       "      <td>3</td>\n",
       "      <td>0</td>\n",
       "      <td>27</td>\n",
       "      <td>21</td>\n",
       "      <td>4</td>\n",
       "      <td>0</td>\n",
       "      <td>...</td>\n",
       "      <td>4</td>\n",
       "      <td>0</td>\n",
       "      <td>773</td>\n",
       "      <td>0</td>\n",
       "      <td>0</td>\n",
       "      <td>0</td>\n",
       "      <td>33</td>\n",
       "      <td>34</td>\n",
       "      <td>1029</td>\n",
       "      <td>0</td>\n",
       "    </tr>\n",
       "    <tr>\n",
       "      <td>1</td>\n",
       "      <td>Alexandre Lacazette</td>\n",
       "      <td>35</td>\n",
       "      <td>8</td>\n",
       "      <td>13</td>\n",
       "      <td>29</td>\n",
       "      <td>0</td>\n",
       "      <td>61</td>\n",
       "      <td>51</td>\n",
       "      <td>13</td>\n",
       "      <td>0</td>\n",
       "      <td>...</td>\n",
       "      <td>24</td>\n",
       "      <td>0</td>\n",
       "      <td>771</td>\n",
       "      <td>0</td>\n",
       "      <td>0</td>\n",
       "      <td>0</td>\n",
       "      <td>81</td>\n",
       "      <td>35</td>\n",
       "      <td>1313</td>\n",
       "      <td>2</td>\n",
       "    </tr>\n",
       "    <tr>\n",
       "      <td>2</td>\n",
       "      <td>Pierre-Emerick Aubameyang</td>\n",
       "      <td>36</td>\n",
       "      <td>5</td>\n",
       "      <td>23</td>\n",
       "      <td>18</td>\n",
       "      <td>0</td>\n",
       "      <td>33</td>\n",
       "      <td>13</td>\n",
       "      <td>22</td>\n",
       "      <td>0</td>\n",
       "      <td>...</td>\n",
       "      <td>23</td>\n",
       "      <td>0</td>\n",
       "      <td>692</td>\n",
       "      <td>0</td>\n",
       "      <td>0</td>\n",
       "      <td>0</td>\n",
       "      <td>94</td>\n",
       "      <td>21</td>\n",
       "      <td>1132</td>\n",
       "      <td>0</td>\n",
       "    </tr>\n",
       "  </tbody>\n",
       "</table>\n",
       "<p>3 rows × 22 columns</p>\n",
       "</div>"
      ],
      "text/plain": [
       "Metric                     Player  Appearances  Assists  Big Chances Missed  \\\n",
       "0                    Aaron Ramsey           28        6                   2   \n",
       "1             Alexandre Lacazette           35        8                  13   \n",
       "2       Pierre-Emerick Aubameyang           36        5                  23   \n",
       "\n",
       "Metric  Clearances  Clearances Off Line  Dispossessed  Fouls  Goals  \\\n",
       "0                3                    0            27     21      4   \n",
       "1               29                    0            61     51     13   \n",
       "2               18                    0            33     13     22   \n",
       "\n",
       "Metric  High Claim  ...  Offsides  Own Goal  Passes  Punches  Red Cards  \\\n",
       "0                0  ...         4         0     773        0          0   \n",
       "1                0  ...        24         0     771        0          0   \n",
       "2                0  ...        23         0     692        0          0   \n",
       "\n",
       "Metric  Saves  Shots  Tackles  Touches  Yellow Cards  \n",
       "0           0     33       34     1029             0  \n",
       "1           0     81       35     1313             2  \n",
       "2           0     94       21     1132             0  \n",
       "\n",
       "[3 rows x 22 columns]"
      ]
     },
     "execution_count": 4,
     "metadata": {},
     "output_type": "execute_result"
    }
   ],
   "source": [
    "pt = pd.pivot_table(df, values='Stat', index=['Player'], columns=['Metric'])\n",
    "pt.reset_index(inplace=True)\n",
    "print(pt.columns)\n",
    "pt.head()"
   ]
  },
  {
   "cell_type": "code",
   "execution_count": 5,
   "metadata": {},
   "outputs": [],
   "source": [
    "team_goals = pt['Goals'].sum()\n",
    "pt['SCORING PARTICIPATION RATE'] = (pt['Assists'] + pt['Own Goal']) / team_goals\n",
    "\n",
    "\n",
    "pt['NET POINTS PER GAME'] = (pt['Goals'] + pt['Assists'] - pt['Own Goal']) / (pt['Minutes Played'] / 90)\n",
    "pt = pt.sort_values(by='NET POINTS PER GAME', ascending=False)\n",
    "\n",
    "pt['GOALS SHOT EFFICIENCY'] = (pt['Goals'] / pt['Shots'])\n",
    "pt['HIT WOODWORK SHOT EFFICIENCY'] = (pt['Hit Woodwork'] / pt['Shots']) + pt['GOALS SHOT EFFICIENCY']"
   ]
  },
  {
   "cell_type": "code",
   "execution_count": 10,
   "metadata": {},
   "outputs": [
    {
     "data": {
      "image/png": "[encoded data removed]",
      "text/plain": [
       "<Figure size 720x936 with 3 Axes>"
      ]
     },
     "metadata": {
      "needs_background": "light"
     },
     "output_type": "display_data"
    }
   ],
   "source": [
    "gs = gridspec.GridSpec(1, 3)\n",
    "plt.figure(figsize=(10, 13))\n",
    "\n",
    "\n",
    "ax = plt.subplot(gs[0, 0])\n",
    "sns.barplot(ax=ax, x='NET POINTS PER GAME', y='Player', data=pt, color=\"#9c824a\")\n",
    "\n",
    "ax = plt.subplot(gs[0, 1])\n",
    "ax.get_yaxis().set_visible(False)\n",
    "sns.barplot(ax=ax, x='SCORING PARTICIPATION RATE', y='Player', data=pt, color=\"#9c824a\")\n",
    "\n",
    "ax = plt.subplot(gs[0, 2])\n",
    "ax.get_yaxis().set_visible(False)\n",
    "sns.barplot(ax=ax, x='GOALS SHOT EFFICIENCY', y='Player', data=pt, color=\"#023474\");"
   ]
  },
  {
   "cell_type": "code",
   "execution_count": null,
   "metadata": {},
   "outputs": [],
   "source": []
  }
 ],
 "metadata": {
  "kernelspec": {
   "display_name": "Python 3",
   "language": "python",
   "name": "python3"
  },
  "language_info": {
   "codemirror_mode": {
    "name": "ipython",
    "version": 3
   },
   "file_extension": ".py",
   "mimetype": "text/x-python",
   "name": "python",
   "nbconvert_exporter": "python",
   "pygments_lexer": "ipython3",
   "version": "3.7.3"
  }
 },
 "nbformat": 4,
 "nbformat_minor": 2
}
