{
 "cells": [
  {
   "cell_type": "markdown",
   "metadata": {},
   "source": [
    "# Recreating @idatadrew's implementation which can be found [here](https://public.tableau.com/views/NHL-ChangeinAverageAttendanceperGame/NHL-ChangeinAverageAttendanceperGame?:embed=y&:display_count=yes&publish=yes&:toolbar=no&:showVizHome=no)."
   ]
  },
  {
   "cell_type": "markdown",
   "metadata": {},
   "source": [
    "## What is the % change in average attendance per game for NHL teams compared to the 2000-01 season?"
   ]
  },
  {
   "cell_type": "code",
   "execution_count": 1,
   "metadata": {},
   "outputs": [],
   "source": [
    "import math\n",
    "import numpy as np \n",
    "import pandas as pd\n",
    "\n",
    "import seaborn as sns\n",
    "import matplotlib.pylab as plt\n",
    "pd.options.mode.chained_assignment = None #surpress is copy warning"
   ]
  },
  {
   "cell_type": "code",
   "execution_count": 2,
   "metadata": {},
   "outputs": [
    {
     "data": {
      "text/plain": [
       "Index(['SEASON', 'RANK', 'TEAM', 'HOME GAMES', ' HOME ATTENDANCE ',\n",
       "       'ROAD GAMES', ' ROAD ATTENDANCE ', 'TOTAL GAMES', ' TOTAL ATTENDANCE '],\n",
       "      dtype='object')"
      ]
     },
     "execution_count": 2,
     "metadata": {},
     "output_type": "execute_result"
    }
   ],
   "source": [
    "df = pd.read_csv('./NHL Attendance.csv')\n",
    "df.columns"
   ]
  },
  {
   "cell_type": "code",
   "execution_count": 3,
   "metadata": {},
   "outputs": [
    {
     "name": "stdout",
     "output_type": "stream",
     "text": [
      "TEAM\n",
      "Anaheim         17\n",
      "Arizona         17\n",
      "Boston          17\n",
      "Buffalo         17\n",
      "Calgary         17\n",
      "Carolina        17\n",
      "Chicago         17\n",
      "Colorado        17\n",
      "Columbus        17\n",
      "Dallas          17\n",
      "Detroit         17\n",
      "Edmonton        17\n",
      "Florida         17\n",
      "Los Angeles     17\n",
      "Minnesota       17\n",
      "Montreal        17\n",
      "NY Islanders    17\n",
      "NY Rangers      17\n",
      "Nashville       17\n",
      "New Jersey      17\n",
      "Ottawa          17\n",
      "Philadelphia    17\n",
      "Pittsburgh      17\n",
      "San Jose        17\n",
      "St. Louis       17\n",
      "Tampa Bay       17\n",
      "Toronto         17\n",
      "Vancouver       17\n",
      "Washington      17\n",
      "Winnipeg        17\n",
      "Name: SEASON, dtype: int64\n"
     ]
    }
   ],
   "source": [
    "df = df.query('TEAM != \"Vegas\"')\n",
    "print(df.groupby('TEAM')['SEASON'].count())"
   ]
  },
  {
   "cell_type": "code",
   "execution_count": 4,
   "metadata": {},
   "outputs": [],
   "source": [
    "def clean_numeric_column(df, column_name):\n",
    "    series = df[column_name].str.strip()\n",
    "    series = series.str.replace(',', '')\n",
    "    series = pd.to_numeric(series)\n",
    "    df[column_name] = series\n",
    "    return df\n",
    "\n",
    "def format_percent(season_one, season_two):\n",
    "    percent = season_one / season_two;\n",
    "    percent = percent - 1\n",
    "    return round(percent * 100, 1)\n",
    "\n",
    "def calculate_percent_change(current_attendance, team, df):\n",
    "    row = df.query('SEASON == \"2000-01\" and TEAM == @team')\n",
    "    starting_attendance = row.iloc[0]['AVERAGE ATTENDANCE PER GAME']\n",
    "\n",
    "    return format_percent(current_attendance, starting_attendance)"
   ]
  },
  {
   "cell_type": "code",
   "execution_count": 5,
   "metadata": {},
   "outputs": [],
   "source": [
    "data = df[['TEAM', 'SEASON', ' TOTAL ATTENDANCE ', 'TOTAL GAMES']]\n",
    "data = clean_numeric_column(data, ' TOTAL ATTENDANCE ')\n",
    "\n",
    "\n",
    "data['AVERAGE ATTENDANCE PER GAME'] = round(data[' TOTAL ATTENDANCE '] / data['TOTAL GAMES'], 0)\n",
    "data['PREVIOUS AVERAGE ATTENDANCE PER GAME'] = data.groupby('TEAM')['AVERAGE ATTENDANCE PER GAME'].shift(-1)\n",
    "\n",
    "data['PERCENT CHANGE IN AVERAGE ATTENDANCE PER GAME'] = data.apply(lambda row: \n",
    "    calculate_percent_change(\n",
    "        row['AVERAGE ATTENDANCE PER GAME'],\n",
    "        row['TEAM'],\n",
    "        data\n",
    "    ),\n",
    "    axis = 1, #applies lambda to row                                                                 \n",
    ")\n",
    "\n",
    "data = data.query('SEASON != \"2000-01\"')\n",
    "piviot_table = pd.pivot_table(data, values='PERCENT CHANGE IN AVERAGE ATTENDANCE PER GAME', index='TEAM',  columns='SEASON')\n"
   ]
  },
  {
   "cell_type": "code",
   "execution_count": 6,
   "metadata": {},
   "outputs": [
    {
     "name": "stdout",
     "output_type": "stream",
     "text": [
      "SEASON   2001-02  2002-03  2003-04  2005-06  2006-07  2007-08  2008-09  \\\n",
      "TEAM                                                                     \n",
      "Chicago      2.6      0.9     -4.3     -5.0     -7.0      8.0     25.8   \n",
      "\n",
      "SEASON   2009-10  2010-11  2011-12  2012-13  2013-14  2014-15  2015-16  \\\n",
      "TEAM                                                                     \n",
      "Chicago     21.8     24.3     23.7     26.3     27.9     27.8     28.9   \n",
      "\n",
      "SEASON   2016-17  2017-18  \n",
      "TEAM                       \n",
      "Chicago     27.5     24.3  \n"
     ]
    }
   ],
   "source": [
    "def sort_teams(df):\n",
    "    result = df.groupby('TEAM')['PERCENT CHANGE IN AVERAGE ATTENDANCE PER GAME'].sum().reset_index()\n",
    "    result = df.sort_values(by=['PERCENT CHANGE IN AVERAGE ATTENDANCE PER GAME'], ascending=False)\n",
    "    result = result['TEAM'].unique().tolist()\n",
    "    return result\n",
    "\n",
    "team_order = sort_teams(data)\n",
    "piviot_table = piviot_table.reindex(team_order, axis=0)\n",
    "print(piviot_table.query('TEAM == \"Chicago\"'))"
   ]
  },
  {
   "cell_type": "markdown",
   "metadata": {},
   "source": [
    "Average attendance per game has steadily increased **compared to the 2000-01 season** for most teams. Chiago Blackhawks have seen the most <font color=blue>**positive % change**</font>, whereas Colorado Avalanche have seen the most <font color=red>**negative % change**</font>."
   ]
  },
  {
   "cell_type": "code",
   "execution_count": 17,
   "metadata": {},
   "outputs": [
    {
     "data": {
      "image/png": "[encoded data removed]",
      "text/plain": [
       "<Figure size 432x288 with 2 Axes>"
      ]
     },
     "metadata": {
      "needs_background": "light"
     },
     "output_type": "display_data"
    }
   ],
   "source": [
    "ax = sns.heatmap(piviot_table, linewidth=0.5, cmap=\"coolwarm_r\")\n",
    "ax.vlines(3, *ax.get_ylim()) # lockout\n",
    "plt.show()"
   ]
  },
  {
   "cell_type": "markdown",
   "metadata": {},
   "source": [
    "TODO:\n",
    "    add lines with notes about lockouts\n",
    "    display as percent instead of numbers\n",
    "    format seasons and move labels to top\n",
    "    remove team\n",
    "    add Season (2000's)\n",
    "    display hot cold metere as % with max min range\n",
    "    add hockey stick man to markdown :D"
   ]
  }
 ],
 "metadata": {
  "kernelspec": {
   "display_name": "Python 3",
   "language": "python",
   "name": "python3"
  },
  "language_info": {
   "codemirror_mode": {
    "name": "ipython",
    "version": 3
   },
   "file_extension": ".py",
   "mimetype": "text/x-python",
   "name": "python",
   "nbconvert_exporter": "python",
   "pygments_lexer": "ipython3",
   "version": "3.7.3"
  }
 },
 "nbformat": 4,
 "nbformat_minor": 2
}
